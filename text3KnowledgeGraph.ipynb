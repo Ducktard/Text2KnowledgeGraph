{
  "nbformat": 4,
  "nbformat_minor": 0,
  "metadata": {
    "colab": {
      "provenance": [],
      "include_colab_link": true
    },
    "kernelspec": {
      "name": "python3",
      "display_name": "Python 3"
    },
    "language_info": {
      "name": "python"
    }
  },
  "cells": [
    {
      "cell_type": "markdown",
      "metadata": {
        "id": "view-in-github",
        "colab_type": "text"
      },
      "source": [
        "<a href=\"https://colab.research.google.com/github/Ducktard/Text2KnowledgeGraph/blob/dev/text3KnowledgeGraph.ipynb\" target=\"_parent\"><img src=\"https://colab.research.google.com/assets/colab-badge.svg\" alt=\"Open In Colab\"/></a>"
      ]
    },
    {
      "cell_type": "code",
      "execution_count": null,
      "metadata": {
        "colab": {
          "base_uri": "https://localhost:8080/"
        },
        "id": "2P3afupeYMoO",
        "outputId": "c7d2aacd-24f8-4497-f507-380ce17e265c"
      },
      "outputs": [
        {
          "output_type": "stream",
          "name": "stdout",
          "text": [
            "Cloning into 'Text2KnowledgeGraph'...\n",
            "warning: You appear to have cloned an empty repository.\n"
          ]
        }
      ],
      "source": []
    },
    {
      "cell_type": "markdown",
      "source": [
        "#hat geklappt"
      ],
      "metadata": {
        "id": "Wr98srMIZ3Rh"
      }
    },
    {
      "cell_type": "code",
      "source": [
        "Änderung by Alex"
      ],
      "metadata": {
        "id": "_bZTzlf7YZUT"
      },
      "execution_count": null,
      "outputs": []
    }
  ]
}